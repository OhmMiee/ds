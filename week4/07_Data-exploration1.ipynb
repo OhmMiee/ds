{
 "cells": [
  {
   "cell_type": "markdown",
   "metadata": {},
   "source": [
    "**การสำรวจข้อมูลเบื้องต้น 1 (Basic Data exploration)**"
   ]
  },
  {
   "cell_type": "code",
   "execution_count": 3,
   "metadata": {},
   "outputs": [],
   "source": [
    "import pandas as pd"
   ]
  },
  {
   "cell_type": "code",
   "execution_count": 4,
   "metadata": {},
   "outputs": [
    {
     "data": {
      "text/html": [
       "<div>\n",
       "<style scoped>\n",
       "    .dataframe tbody tr th:only-of-type {\n",
       "        vertical-align: middle;\n",
       "    }\n",
       "\n",
       "    .dataframe tbody tr th {\n",
       "        vertical-align: top;\n",
       "    }\n",
       "\n",
       "    .dataframe thead th {\n",
       "        text-align: right;\n",
       "    }\n",
       "</style>\n",
       "<table border=\"1\" class=\"dataframe\">\n",
       "  <thead>\n",
       "    <tr style=\"text-align: right;\">\n",
       "      <th></th>\n",
       "      <th>gender</th>\n",
       "      <th>birthdate</th>\n",
       "      <th>occupation</th>\n",
       "      <th>work_exp</th>\n",
       "      <th>salary</th>\n",
       "      <th>own_house</th>\n",
       "      <th>children</th>\n",
       "    </tr>\n",
       "  </thead>\n",
       "  <tbody>\n",
       "    <tr>\n",
       "      <th>0</th>\n",
       "      <td>M</td>\n",
       "      <td>31-Jul-89</td>\n",
       "      <td>nurse</td>\n",
       "      <td>2.2</td>\n",
       "      <td>223700.0</td>\n",
       "      <td>True</td>\n",
       "      <td>1</td>\n",
       "    </tr>\n",
       "    <tr>\n",
       "      <th>1</th>\n",
       "      <td>NaN</td>\n",
       "      <td>30-Oct-92</td>\n",
       "      <td>dentist</td>\n",
       "      <td>6.7</td>\n",
       "      <td>121100.0</td>\n",
       "      <td>True</td>\n",
       "      <td>1</td>\n",
       "    </tr>\n",
       "    <tr>\n",
       "      <th>2</th>\n",
       "      <td>F</td>\n",
       "      <td>NaN</td>\n",
       "      <td>accountant</td>\n",
       "      <td>9.0</td>\n",
       "      <td>NaN</td>\n",
       "      <td>False</td>\n",
       "      <td>2</td>\n",
       "    </tr>\n",
       "    <tr>\n",
       "      <th>3</th>\n",
       "      <td>F</td>\n",
       "      <td>17-Sep-87</td>\n",
       "      <td>engineer</td>\n",
       "      <td>1.7</td>\n",
       "      <td>79900.0</td>\n",
       "      <td>False</td>\n",
       "      <td>0</td>\n",
       "    </tr>\n",
       "    <tr>\n",
       "      <th>4</th>\n",
       "      <td>M</td>\n",
       "      <td>24-Jan-93</td>\n",
       "      <td>teacher</td>\n",
       "      <td>3.6</td>\n",
       "      <td>32800.0</td>\n",
       "      <td>False</td>\n",
       "      <td>2</td>\n",
       "    </tr>\n",
       "  </tbody>\n",
       "</table>\n",
       "</div>"
      ],
      "text/plain": [
       "  gender  birthdate  occupation  work_exp    salary  own_house  children\n",
       "0      M  31-Jul-89       nurse       2.2  223700.0       True         1\n",
       "1    NaN  30-Oct-92     dentist       6.7  121100.0       True         1\n",
       "2      F        NaN  accountant       9.0       NaN      False         2\n",
       "3      F  17-Sep-87    engineer       1.7   79900.0      False         0\n",
       "4      M  24-Jan-93     teacher       3.6   32800.0      False         2"
      ]
     },
     "execution_count": 4,
     "metadata": {},
     "output_type": "execute_result"
    }
   ],
   "source": [
    "#https://github.com/mathawanup/master_data/blob/master/customer.tsv\n",
    "url='https://raw.githubusercontent.com/mathawanup/master_data/master/customer.tsv'\n",
    "df=pd.read_table(url)\n",
    "df.head() "
   ]
  },
  {
   "cell_type": "code",
   "execution_count": 5,
   "metadata": {},
   "outputs": [],
   "source": [
    "#สำรวจดูรายละเอียดของ df  dataframe "
   ]
  },
  {
   "cell_type": "code",
   "execution_count": 6,
   "metadata": {},
   "outputs": [
    {
     "name": "stdout",
     "output_type": "stream",
     "text": [
      "<class 'pandas.core.frame.DataFrame'>\n",
      "RangeIndex: 170 entries, 0 to 169\n",
      "Data columns (total 7 columns):\n",
      " #   Column      Non-Null Count  Dtype  \n",
      "---  ------      --------------  -----  \n",
      " 0   gender      153 non-null    object \n",
      " 1   birthdate   136 non-null    object \n",
      " 2   occupation  170 non-null    object \n",
      " 3   work_exp    170 non-null    float64\n",
      " 4   salary      136 non-null    float64\n",
      " 5   own_house   170 non-null    bool   \n",
      " 6   children    170 non-null    int64  \n",
      "dtypes: bool(1), float64(2), int64(1), object(3)\n",
      "memory usage: 8.3+ KB\n"
     ]
    }
   ],
   "source": [
    "df.info()"
   ]
  },
  {
   "cell_type": "code",
   "execution_count": 7,
   "metadata": {},
   "outputs": [
    {
     "data": {
      "text/html": [
       "<div>\n",
       "<style scoped>\n",
       "    .dataframe tbody tr th:only-of-type {\n",
       "        vertical-align: middle;\n",
       "    }\n",
       "\n",
       "    .dataframe tbody tr th {\n",
       "        vertical-align: top;\n",
       "    }\n",
       "\n",
       "    .dataframe thead th {\n",
       "        text-align: right;\n",
       "    }\n",
       "</style>\n",
       "<table border=\"1\" class=\"dataframe\">\n",
       "  <thead>\n",
       "    <tr style=\"text-align: right;\">\n",
       "      <th></th>\n",
       "      <th>gender</th>\n",
       "      <th>birthdate</th>\n",
       "      <th>occupation</th>\n",
       "      <th>work_exp</th>\n",
       "      <th>salary</th>\n",
       "      <th>own_house</th>\n",
       "      <th>children</th>\n",
       "    </tr>\n",
       "  </thead>\n",
       "  <tbody>\n",
       "    <tr>\n",
       "      <th>0</th>\n",
       "      <td>M</td>\n",
       "      <td>1989-07-31</td>\n",
       "      <td>nurse</td>\n",
       "      <td>2.2</td>\n",
       "      <td>223700.0</td>\n",
       "      <td>True</td>\n",
       "      <td>1</td>\n",
       "    </tr>\n",
       "    <tr>\n",
       "      <th>1</th>\n",
       "      <td>NaN</td>\n",
       "      <td>1992-10-30</td>\n",
       "      <td>dentist</td>\n",
       "      <td>6.7</td>\n",
       "      <td>121100.0</td>\n",
       "      <td>True</td>\n",
       "      <td>1</td>\n",
       "    </tr>\n",
       "    <tr>\n",
       "      <th>2</th>\n",
       "      <td>F</td>\n",
       "      <td>NaT</td>\n",
       "      <td>accountant</td>\n",
       "      <td>9.0</td>\n",
       "      <td>NaN</td>\n",
       "      <td>False</td>\n",
       "      <td>2</td>\n",
       "    </tr>\n",
       "    <tr>\n",
       "      <th>3</th>\n",
       "      <td>F</td>\n",
       "      <td>1987-09-17</td>\n",
       "      <td>engineer</td>\n",
       "      <td>1.7</td>\n",
       "      <td>79900.0</td>\n",
       "      <td>False</td>\n",
       "      <td>0</td>\n",
       "    </tr>\n",
       "    <tr>\n",
       "      <th>4</th>\n",
       "      <td>M</td>\n",
       "      <td>1993-01-24</td>\n",
       "      <td>teacher</td>\n",
       "      <td>3.6</td>\n",
       "      <td>32800.0</td>\n",
       "      <td>False</td>\n",
       "      <td>2</td>\n",
       "    </tr>\n",
       "  </tbody>\n",
       "</table>\n",
       "</div>"
      ],
      "text/plain": [
       "  gender  birthdate  occupation  work_exp    salary  own_house  children\n",
       "0      M 1989-07-31       nurse       2.2  223700.0       True         1\n",
       "1    NaN 1992-10-30     dentist       6.7  121100.0       True         1\n",
       "2      F        NaT  accountant       9.0       NaN      False         2\n",
       "3      F 1987-09-17    engineer       1.7   79900.0      False         0\n",
       "4      M 1993-01-24     teacher       3.6   32800.0      False         2"
      ]
     },
     "execution_count": 7,
     "metadata": {},
     "output_type": "execute_result"
    }
   ],
   "source": [
    " #object to dateTime using Parse_date\n",
    "df = pd.read_table(url, parse_dates = ['birthdate'])\n",
    "df.head()"
   ]
  },
  {
   "cell_type": "code",
   "execution_count": 8,
   "metadata": {},
   "outputs": [],
   "source": [
    "# สุ่มแถว"
   ]
  },
  {
   "cell_type": "code",
   "execution_count": 10,
   "metadata": {},
   "outputs": [
    {
     "data": {
      "text/html": [
       "<div>\n",
       "<style scoped>\n",
       "    .dataframe tbody tr th:only-of-type {\n",
       "        vertical-align: middle;\n",
       "    }\n",
       "\n",
       "    .dataframe tbody tr th {\n",
       "        vertical-align: top;\n",
       "    }\n",
       "\n",
       "    .dataframe thead th {\n",
       "        text-align: right;\n",
       "    }\n",
       "</style>\n",
       "<table border=\"1\" class=\"dataframe\">\n",
       "  <thead>\n",
       "    <tr style=\"text-align: right;\">\n",
       "      <th></th>\n",
       "      <th>gender</th>\n",
       "      <th>birthdate</th>\n",
       "      <th>occupation</th>\n",
       "      <th>work_exp</th>\n",
       "      <th>salary</th>\n",
       "      <th>own_house</th>\n",
       "      <th>children</th>\n",
       "    </tr>\n",
       "  </thead>\n",
       "  <tbody>\n",
       "    <tr>\n",
       "      <th>88</th>\n",
       "      <td>M</td>\n",
       "      <td>1994-12-04</td>\n",
       "      <td>teacher</td>\n",
       "      <td>3.3</td>\n",
       "      <td>141300.0</td>\n",
       "      <td>True</td>\n",
       "      <td>0</td>\n",
       "    </tr>\n",
       "  </tbody>\n",
       "</table>\n",
       "</div>"
      ],
      "text/plain": [
       "   gender  birthdate occupation  work_exp    salary  own_house  children\n",
       "88      M 1994-12-04    teacher       3.3  141300.0       True         0"
      ]
     },
     "execution_count": 10,
     "metadata": {},
     "output_type": "execute_result"
    }
   ],
   "source": [
    "df.sample()"
   ]
  },
  {
   "cell_type": "code",
   "execution_count": 11,
   "metadata": {},
   "outputs": [],
   "source": [
    "#default 5 แถวสุดท้าย"
   ]
  },
  {
   "cell_type": "code",
   "execution_count": 12,
   "metadata": {},
   "outputs": [
    {
     "data": {
      "text/html": [
       "<div>\n",
       "<style scoped>\n",
       "    .dataframe tbody tr th:only-of-type {\n",
       "        vertical-align: middle;\n",
       "    }\n",
       "\n",
       "    .dataframe tbody tr th {\n",
       "        vertical-align: top;\n",
       "    }\n",
       "\n",
       "    .dataframe thead th {\n",
       "        text-align: right;\n",
       "    }\n",
       "</style>\n",
       "<table border=\"1\" class=\"dataframe\">\n",
       "  <thead>\n",
       "    <tr style=\"text-align: right;\">\n",
       "      <th></th>\n",
       "      <th>gender</th>\n",
       "      <th>birthdate</th>\n",
       "      <th>occupation</th>\n",
       "      <th>work_exp</th>\n",
       "      <th>salary</th>\n",
       "      <th>own_house</th>\n",
       "      <th>children</th>\n",
       "    </tr>\n",
       "  </thead>\n",
       "  <tbody>\n",
       "    <tr>\n",
       "      <th>165</th>\n",
       "      <td>F</td>\n",
       "      <td>NaT</td>\n",
       "      <td>developer</td>\n",
       "      <td>1.8</td>\n",
       "      <td>NaN</td>\n",
       "      <td>True</td>\n",
       "      <td>1</td>\n",
       "    </tr>\n",
       "    <tr>\n",
       "      <th>166</th>\n",
       "      <td>F</td>\n",
       "      <td>1994-09-26</td>\n",
       "      <td>nurse</td>\n",
       "      <td>5.6</td>\n",
       "      <td>272500.0</td>\n",
       "      <td>False</td>\n",
       "      <td>1</td>\n",
       "    </tr>\n",
       "    <tr>\n",
       "      <th>167</th>\n",
       "      <td>M</td>\n",
       "      <td>1991-05-07</td>\n",
       "      <td>lawyer</td>\n",
       "      <td>4.1</td>\n",
       "      <td>41600.0</td>\n",
       "      <td>False</td>\n",
       "      <td>0</td>\n",
       "    </tr>\n",
       "    <tr>\n",
       "      <th>168</th>\n",
       "      <td>M</td>\n",
       "      <td>1994-12-04</td>\n",
       "      <td>teacher</td>\n",
       "      <td>3.3</td>\n",
       "      <td>141300.0</td>\n",
       "      <td>True</td>\n",
       "      <td>0</td>\n",
       "    </tr>\n",
       "    <tr>\n",
       "      <th>169</th>\n",
       "      <td>M</td>\n",
       "      <td>1987-07-10</td>\n",
       "      <td>police</td>\n",
       "      <td>6.5</td>\n",
       "      <td>68000.0</td>\n",
       "      <td>True</td>\n",
       "      <td>1</td>\n",
       "    </tr>\n",
       "  </tbody>\n",
       "</table>\n",
       "</div>"
      ],
      "text/plain": [
       "    gender  birthdate occupation  work_exp    salary  own_house  children\n",
       "165      F        NaT  developer       1.8       NaN       True         1\n",
       "166      F 1994-09-26      nurse       5.6  272500.0      False         1\n",
       "167      M 1991-05-07     lawyer       4.1   41600.0      False         0\n",
       "168      M 1994-12-04    teacher       3.3  141300.0       True         0\n",
       "169      M 1987-07-10     police       6.5   68000.0       True         1"
      ]
     },
     "execution_count": 12,
     "metadata": {},
     "output_type": "execute_result"
    }
   ],
   "source": [
    "df.tail()"
   ]
  },
  {
   "cell_type": "code",
   "execution_count": 13,
   "metadata": {},
   "outputs": [
    {
     "name": "stdout",
     "output_type": "stream",
     "text": [
      "<class 'pandas.core.frame.DataFrame'>\n",
      "RangeIndex: 170 entries, 0 to 169\n",
      "Data columns (total 7 columns):\n",
      " #   Column      Non-Null Count  Dtype         \n",
      "---  ------      --------------  -----         \n",
      " 0   gender      153 non-null    object        \n",
      " 1   birthdate   136 non-null    datetime64[ns]\n",
      " 2   occupation  170 non-null    object        \n",
      " 3   work_exp    170 non-null    float64       \n",
      " 4   salary      136 non-null    float64       \n",
      " 5   own_house   170 non-null    bool          \n",
      " 6   children    170 non-null    int64         \n",
      "dtypes: bool(1), datetime64[ns](1), float64(2), int64(1), object(2)\n",
      "memory usage: 8.3+ KB\n"
     ]
    }
   ],
   "source": [
    "df.info()"
   ]
  },
  {
   "cell_type": "code",
   "execution_count": 14,
   "metadata": {},
   "outputs": [
    {
     "data": {
      "text/html": [
       "<div>\n",
       "<style scoped>\n",
       "    .dataframe tbody tr th:only-of-type {\n",
       "        vertical-align: middle;\n",
       "    }\n",
       "\n",
       "    .dataframe tbody tr th {\n",
       "        vertical-align: top;\n",
       "    }\n",
       "\n",
       "    .dataframe thead th {\n",
       "        text-align: right;\n",
       "    }\n",
       "</style>\n",
       "<table border=\"1\" class=\"dataframe\">\n",
       "  <thead>\n",
       "    <tr style=\"text-align: right;\">\n",
       "      <th></th>\n",
       "      <th>gender</th>\n",
       "      <th>birthdate</th>\n",
       "      <th>occupation</th>\n",
       "      <th>work_exp</th>\n",
       "      <th>salary</th>\n",
       "      <th>own_house</th>\n",
       "      <th>children</th>\n",
       "      <th>age</th>\n",
       "    </tr>\n",
       "  </thead>\n",
       "  <tbody>\n",
       "    <tr>\n",
       "      <th>0</th>\n",
       "      <td>M</td>\n",
       "      <td>1989-07-31</td>\n",
       "      <td>nurse</td>\n",
       "      <td>2.2</td>\n",
       "      <td>223700.0</td>\n",
       "      <td>True</td>\n",
       "      <td>1</td>\n",
       "      <td>31.0</td>\n",
       "    </tr>\n",
       "    <tr>\n",
       "      <th>1</th>\n",
       "      <td>NaN</td>\n",
       "      <td>1992-10-30</td>\n",
       "      <td>dentist</td>\n",
       "      <td>6.7</td>\n",
       "      <td>121100.0</td>\n",
       "      <td>True</td>\n",
       "      <td>1</td>\n",
       "      <td>28.0</td>\n",
       "    </tr>\n",
       "    <tr>\n",
       "      <th>2</th>\n",
       "      <td>F</td>\n",
       "      <td>NaT</td>\n",
       "      <td>accountant</td>\n",
       "      <td>9.0</td>\n",
       "      <td>NaN</td>\n",
       "      <td>False</td>\n",
       "      <td>2</td>\n",
       "      <td>NaN</td>\n",
       "    </tr>\n",
       "    <tr>\n",
       "      <th>3</th>\n",
       "      <td>F</td>\n",
       "      <td>1987-09-17</td>\n",
       "      <td>engineer</td>\n",
       "      <td>1.7</td>\n",
       "      <td>79900.0</td>\n",
       "      <td>False</td>\n",
       "      <td>0</td>\n",
       "      <td>33.0</td>\n",
       "    </tr>\n",
       "    <tr>\n",
       "      <th>4</th>\n",
       "      <td>M</td>\n",
       "      <td>1993-01-24</td>\n",
       "      <td>teacher</td>\n",
       "      <td>3.6</td>\n",
       "      <td>32800.0</td>\n",
       "      <td>False</td>\n",
       "      <td>2</td>\n",
       "      <td>27.0</td>\n",
       "    </tr>\n",
       "  </tbody>\n",
       "</table>\n",
       "</div>"
      ],
      "text/plain": [
       "  gender  birthdate  occupation  work_exp    salary  own_house  children   age\n",
       "0      M 1989-07-31       nurse       2.2  223700.0       True         1  31.0\n",
       "1    NaN 1992-10-30     dentist       6.7  121100.0       True         1  28.0\n",
       "2      F        NaT  accountant       9.0       NaN      False         2   NaN\n",
       "3      F 1987-09-17    engineer       1.7   79900.0      False         0  33.0\n",
       "4      M 1993-01-24     teacher       3.6   32800.0      False         2  27.0"
      ]
     },
     "execution_count": 14,
     "metadata": {},
     "output_type": "execute_result"
    }
   ],
   "source": [
    "df['age'] = pd.to_datetime('today').year - df.birthdate.dt.year  \n",
    "df.head()"
   ]
  },
  {
   "cell_type": "code",
   "execution_count": 15,
   "metadata": {},
   "outputs": [
    {
     "data": {
      "text/html": [
       "<div>\n",
       "<style scoped>\n",
       "    .dataframe tbody tr th:only-of-type {\n",
       "        vertical-align: middle;\n",
       "    }\n",
       "\n",
       "    .dataframe tbody tr th {\n",
       "        vertical-align: top;\n",
       "    }\n",
       "\n",
       "    .dataframe thead th {\n",
       "        text-align: right;\n",
       "    }\n",
       "</style>\n",
       "<table border=\"1\" class=\"dataframe\">\n",
       "  <thead>\n",
       "    <tr style=\"text-align: right;\">\n",
       "      <th></th>\n",
       "      <th>gender</th>\n",
       "      <th>birthdate</th>\n",
       "      <th>occupation</th>\n",
       "      <th>work_exp</th>\n",
       "      <th>salary</th>\n",
       "      <th>own_house</th>\n",
       "      <th>children</th>\n",
       "      <th>age</th>\n",
       "      <th>Day</th>\n",
       "    </tr>\n",
       "  </thead>\n",
       "  <tbody>\n",
       "    <tr>\n",
       "      <th>0</th>\n",
       "      <td>M</td>\n",
       "      <td>1989-07-31</td>\n",
       "      <td>nurse</td>\n",
       "      <td>2.2</td>\n",
       "      <td>223700.0</td>\n",
       "      <td>True</td>\n",
       "      <td>1</td>\n",
       "      <td>31.0</td>\n",
       "      <td>Monday</td>\n",
       "    </tr>\n",
       "    <tr>\n",
       "      <th>1</th>\n",
       "      <td>NaN</td>\n",
       "      <td>1992-10-30</td>\n",
       "      <td>dentist</td>\n",
       "      <td>6.7</td>\n",
       "      <td>121100.0</td>\n",
       "      <td>True</td>\n",
       "      <td>1</td>\n",
       "      <td>28.0</td>\n",
       "      <td>Friday</td>\n",
       "    </tr>\n",
       "    <tr>\n",
       "      <th>2</th>\n",
       "      <td>F</td>\n",
       "      <td>NaT</td>\n",
       "      <td>accountant</td>\n",
       "      <td>9.0</td>\n",
       "      <td>NaN</td>\n",
       "      <td>False</td>\n",
       "      <td>2</td>\n",
       "      <td>NaN</td>\n",
       "      <td>NaN</td>\n",
       "    </tr>\n",
       "    <tr>\n",
       "      <th>3</th>\n",
       "      <td>F</td>\n",
       "      <td>1987-09-17</td>\n",
       "      <td>engineer</td>\n",
       "      <td>1.7</td>\n",
       "      <td>79900.0</td>\n",
       "      <td>False</td>\n",
       "      <td>0</td>\n",
       "      <td>33.0</td>\n",
       "      <td>Thursday</td>\n",
       "    </tr>\n",
       "    <tr>\n",
       "      <th>4</th>\n",
       "      <td>M</td>\n",
       "      <td>1993-01-24</td>\n",
       "      <td>teacher</td>\n",
       "      <td>3.6</td>\n",
       "      <td>32800.0</td>\n",
       "      <td>False</td>\n",
       "      <td>2</td>\n",
       "      <td>27.0</td>\n",
       "      <td>Sunday</td>\n",
       "    </tr>\n",
       "  </tbody>\n",
       "</table>\n",
       "</div>"
      ],
      "text/plain": [
       "  gender  birthdate  occupation  work_exp    salary  own_house  children  \\\n",
       "0      M 1989-07-31       nurse       2.2  223700.0       True         1   \n",
       "1    NaN 1992-10-30     dentist       6.7  121100.0       True         1   \n",
       "2      F        NaT  accountant       9.0       NaN      False         2   \n",
       "3      F 1987-09-17    engineer       1.7   79900.0      False         0   \n",
       "4      M 1993-01-24     teacher       3.6   32800.0      False         2   \n",
       "\n",
       "    age       Day  \n",
       "0  31.0    Monday  \n",
       "1  28.0    Friday  \n",
       "2   NaN       NaN  \n",
       "3  33.0  Thursday  \n",
       "4  27.0    Sunday  "
      ]
     },
     "execution_count": 15,
     "metadata": {},
     "output_type": "execute_result"
    }
   ],
   "source": [
    "df['Day']=df.birthdate.dt.day_name()\n",
    "df.head()"
   ]
  },
  {
   "cell_type": "code",
   "execution_count": 16,
   "metadata": {},
   "outputs": [
    {
     "data": {
      "text/plain": [
       "122612.5"
      ]
     },
     "execution_count": 16,
     "metadata": {},
     "output_type": "execute_result"
    }
   ],
   "source": [
    "# function สำหรับ float\n",
    "df.salary.mean()"
   ]
  },
  {
   "cell_type": "code",
   "execution_count": 17,
   "metadata": {},
   "outputs": [
    {
     "data": {
      "text/plain": [
       "0           NURSE\n",
       "1         DENTIST\n",
       "2      ACCOUNTANT\n",
       "3        ENGINEER\n",
       "4         TEACHER\n",
       "          ...    \n",
       "165     DEVELOPER\n",
       "166         NURSE\n",
       "167        LAWYER\n",
       "168       TEACHER\n",
       "169        POLICE\n",
       "Name: occupation, Length: 170, dtype: object"
      ]
     },
     "execution_count": 17,
     "metadata": {},
     "output_type": "execute_result"
    }
   ],
   "source": [
    "# function สำหรับ string\n",
    "df.occupation.str.upper()"
   ]
  },
  {
   "cell_type": "code",
   "execution_count": 18,
   "metadata": {},
   "outputs": [
    {
     "data": {
      "text/plain": [
       "True     85\n",
       "False    85\n",
       "Name: own_house, dtype: int64"
      ]
     },
     "execution_count": 18,
     "metadata": {},
     "output_type": "execute_result"
    }
   ],
   "source": [
    " # function สำหรับ boolean\n",
    "df.own_house.value_counts()"
   ]
  },
  {
   "cell_type": "code",
   "execution_count": 19,
   "metadata": {},
   "outputs": [
    {
     "data": {
      "text/plain": [
       "teacher       34\n",
       "nurse         34\n",
       "accountant    17\n",
       "police        17\n",
       "lawyer        17\n",
       "dentist       17\n",
       "developer     17\n",
       "engineer      17\n",
       "Name: occupation, dtype: int64"
      ]
     },
     "execution_count": 19,
     "metadata": {},
     "output_type": "execute_result"
    }
   ],
   "source": [
    "# สถิติเชิงพรรณา\n",
    "df.occupation.value_counts()"
   ]
  },
  {
   "cell_type": "code",
   "execution_count": 20,
   "metadata": {},
   "outputs": [
    {
     "data": {
      "text/html": [
       "<div>\n",
       "<style scoped>\n",
       "    .dataframe tbody tr th:only-of-type {\n",
       "        vertical-align: middle;\n",
       "    }\n",
       "\n",
       "    .dataframe tbody tr th {\n",
       "        vertical-align: top;\n",
       "    }\n",
       "\n",
       "    .dataframe thead th {\n",
       "        text-align: right;\n",
       "    }\n",
       "</style>\n",
       "<table border=\"1\" class=\"dataframe\">\n",
       "  <thead>\n",
       "    <tr style=\"text-align: right;\">\n",
       "      <th></th>\n",
       "      <th>work_exp</th>\n",
       "      <th>salary</th>\n",
       "      <th>children</th>\n",
       "      <th>age</th>\n",
       "    </tr>\n",
       "  </thead>\n",
       "  <tbody>\n",
       "    <tr>\n",
       "      <th>count</th>\n",
       "      <td>170.00000</td>\n",
       "      <td>136.000000</td>\n",
       "      <td>170.000000</td>\n",
       "      <td>136.000000</td>\n",
       "    </tr>\n",
       "    <tr>\n",
       "      <th>mean</th>\n",
       "      <td>4.45000</td>\n",
       "      <td>122612.500000</td>\n",
       "      <td>0.900000</td>\n",
       "      <td>29.125000</td>\n",
       "    </tr>\n",
       "    <tr>\n",
       "      <th>std</th>\n",
       "      <td>2.31126</td>\n",
       "      <td>81287.556733</td>\n",
       "      <td>0.702068</td>\n",
       "      <td>2.722846</td>\n",
       "    </tr>\n",
       "    <tr>\n",
       "      <th>min</th>\n",
       "      <td>1.70000</td>\n",
       "      <td>32800.000000</td>\n",
       "      <td>0.000000</td>\n",
       "      <td>26.000000</td>\n",
       "    </tr>\n",
       "    <tr>\n",
       "      <th>25%</th>\n",
       "      <td>2.20000</td>\n",
       "      <td>61400.000000</td>\n",
       "      <td>0.000000</td>\n",
       "      <td>26.750000</td>\n",
       "    </tr>\n",
       "    <tr>\n",
       "      <th>50%</th>\n",
       "      <td>3.85000</td>\n",
       "      <td>100500.000000</td>\n",
       "      <td>1.000000</td>\n",
       "      <td>28.500000</td>\n",
       "    </tr>\n",
       "    <tr>\n",
       "      <th>75%</th>\n",
       "      <td>6.50000</td>\n",
       "      <td>161900.000000</td>\n",
       "      <td>1.000000</td>\n",
       "      <td>31.500000</td>\n",
       "    </tr>\n",
       "    <tr>\n",
       "      <th>max</th>\n",
       "      <td>9.00000</td>\n",
       "      <td>272500.000000</td>\n",
       "      <td>2.000000</td>\n",
       "      <td>33.000000</td>\n",
       "    </tr>\n",
       "  </tbody>\n",
       "</table>\n",
       "</div>"
      ],
      "text/plain": [
       "        work_exp         salary    children         age\n",
       "count  170.00000     136.000000  170.000000  136.000000\n",
       "mean     4.45000  122612.500000    0.900000   29.125000\n",
       "std      2.31126   81287.556733    0.702068    2.722846\n",
       "min      1.70000   32800.000000    0.000000   26.000000\n",
       "25%      2.20000   61400.000000    0.000000   26.750000\n",
       "50%      3.85000  100500.000000    1.000000   28.500000\n",
       "75%      6.50000  161900.000000    1.000000   31.500000\n",
       "max      9.00000  272500.000000    2.000000   33.000000"
      ]
     },
     "execution_count": 20,
     "metadata": {},
     "output_type": "execute_result"
    }
   ],
   "source": [
    "df.describe()"
   ]
  },
  {
   "cell_type": "code",
   "execution_count": null,
   "metadata": {},
   "outputs": [],
   "source": []
  }
 ],
 "metadata": {
  "kernelspec": {
   "display_name": "Python 3",
   "language": "python",
   "name": "python3"
  },
  "language_info": {
   "codemirror_mode": {
    "name": "ipython",
    "version": 3
   },
   "file_extension": ".py",
   "mimetype": "text/x-python",
   "name": "python",
   "nbconvert_exporter": "python",
   "pygments_lexer": "ipython3",
   "version": "3.8.5"
  }
 },
 "nbformat": 4,
 "nbformat_minor": 4
}
