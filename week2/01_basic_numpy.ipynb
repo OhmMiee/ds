{
 "cells": [
  {
   "cell_type": "markdown",
   "metadata": {},
   "source": [
    "## NumPy package (Numeric Python)\n",
    "##### มีฟังก์ชั่นเกี่ยวกับคณิตศาสตร์และการคำนวณต่างๆ มาให้ใช้งาน โดยทั่วไปจะเกี่ยวกับการจัดการข้อมูลชุด (Array) ขนาดใหญ่และเมทริกซ์"
   ]
  },
  {
   "cell_type": "markdown",
   "metadata": {},
   "source": [
    "##### Arrays เป็นคุณสมบัติหลักของ NumPy มีลักษณะคล้ายกับ list ยกเว้นสมาชิกทุกตัวใน array จะต้องเป็นข้อมูลชนิดเดียวกัน \n",
    "##### โดยทั่วไปแล้วข้อมูล ที่เก็บจะเป็นตัวเลขเช่น int หรือ float\n"
   ]
  },
  {
   "cell_type": "code",
   "execution_count": 1,
   "metadata": {},
   "outputs": [],
   "source": [
    "d1=2\n",
    "d2=1\n",
    "d3=3\n",
    "d4=4\n",
    "d5=5\n",
    "d6=6\n",
    "d7=3\n",
    "d8=20"
   ]
  },
  {
   "cell_type": "code",
   "execution_count": 2,
   "metadata": {
    "scrolled": true
   },
   "outputs": [
    {
     "data": {
      "text/plain": [
       "5.5"
      ]
     },
     "execution_count": 2,
     "metadata": {},
     "output_type": "execute_result"
    }
   ],
   "source": [
    "(d1 + d2 + d3 + d4 + d5+ d6+ d7+ d8) / 8"
   ]
  },
  {
   "cell_type": "code",
   "execution_count": 3,
   "metadata": {},
   "outputs": [],
   "source": [
    "# d = [2,1,3,4,5,6,3,20] "
   ]
  },
  {
   "cell_type": "code",
   "execution_count": 4,
   "metadata": {},
   "outputs": [
    {
     "name": "stdout",
     "output_type": "stream",
     "text": [
      "The average is 5.5\n"
     ]
    }
   ],
   "source": [
    "def cal_average(num):\n",
    "    sum_num = 0\n",
    "    for t in num:\n",
    "        sum_num = sum_num + t           \n",
    "\n",
    "    avg = sum_num / len(num)\n",
    "    return avg\n",
    "\n",
    "print(\"The average is\", cal_average([2,1,3,4,5,6,3,20]))"
   ]
  },
  {
   "cell_type": "code",
   "execution_count": 5,
   "metadata": {},
   "outputs": [
    {
     "name": "stdout",
     "output_type": "stream",
     "text": [
      "The average is  5.5\n"
     ]
    }
   ],
   "source": [
    "# Example to find average of list\n",
    "number_list = [2,1,3,4,5,6,3,20]\n",
    "avg = sum(number_list)/len(number_list)\n",
    "print(\"The average is \", round(avg,2))"
   ]
  },
  {
   "cell_type": "markdown",
   "metadata": {},
   "source": [
    "### numpy"
   ]
  },
  {
   "cell_type": "code",
   "execution_count": 6,
   "metadata": {},
   "outputs": [],
   "source": [
    "import numpy as np "
   ]
  },
  {
   "cell_type": "code",
   "execution_count": 7,
   "metadata": {},
   "outputs": [],
   "source": [
    "data = [2, 1, 3, 4, 5, 6, 3, 20]"
   ]
  },
  {
   "cell_type": "code",
   "execution_count": 9,
   "metadata": {},
   "outputs": [
    {
     "data": {
      "text/plain": [
       "5.5"
      ]
     },
     "execution_count": 9,
     "metadata": {},
     "output_type": "execute_result"
    }
   ],
   "source": [
    "np.mean(data)"
   ]
  },
  {
   "cell_type": "code",
   "execution_count": 10,
   "metadata": {},
   "outputs": [
    {
     "data": {
      "text/plain": [
       "5.5"
      ]
     },
     "execution_count": 10,
     "metadata": {},
     "output_type": "execute_result"
    }
   ],
   "source": [
    "np.mean([2, 1, 3, 4, 5, 6, 3, 20])"
   ]
  },
  {
   "cell_type": "code",
   "execution_count": 11,
   "metadata": {},
   "outputs": [
    {
     "data": {
      "text/plain": [
       "20"
      ]
     },
     "execution_count": 11,
     "metadata": {},
     "output_type": "execute_result"
    }
   ],
   "source": [
    "np.max(data)"
   ]
  },
  {
   "cell_type": "code",
   "execution_count": 12,
   "metadata": {},
   "outputs": [
    {
     "data": {
      "text/plain": [
       "5.678908345800274"
      ]
     },
     "execution_count": 12,
     "metadata": {},
     "output_type": "execute_result"
    }
   ],
   "source": [
    "np.std(data)"
   ]
  },
  {
   "cell_type": "code",
   "execution_count": 13,
   "metadata": {},
   "outputs": [
    {
     "data": {
      "text/plain": [
       "numpy.ndarray"
      ]
     },
     "execution_count": 13,
     "metadata": {},
     "output_type": "execute_result"
    }
   ],
   "source": [
    "npa = np.array([data])\n",
    "type(npa)"
   ]
  },
  {
   "cell_type": "code",
   "execution_count": null,
   "metadata": {},
   "outputs": [],
   "source": []
  },
  {
   "cell_type": "code",
   "execution_count": 14,
   "metadata": {},
   "outputs": [],
   "source": [
    "npa = np.array([data]) "
   ]
  },
  {
   "cell_type": "code",
   "execution_count": 15,
   "metadata": {},
   "outputs": [],
   "source": [
    "npa = np.array([data],float) "
   ]
  },
  {
   "cell_type": "code",
   "execution_count": 16,
   "metadata": {},
   "outputs": [
    {
     "data": {
      "text/plain": [
       "array([[ 2.,  1.,  3.,  4.,  5.,  6.,  3., 20.]])"
      ]
     },
     "execution_count": 16,
     "metadata": {},
     "output_type": "execute_result"
    }
   ],
   "source": [
    "npa"
   ]
  },
  {
   "cell_type": "markdown",
   "metadata": {},
   "source": [
    "##### Array 2 มิติเทียบได้กับ  Matrix"
   ]
  },
  {
   "cell_type": "markdown",
   "metadata": {},
   "source": [
    "$$\\begin{bmatrix} 6 & 7 & 4 & 5 & 1\\\\ 2 & 8 & 3 & 6 & 4 \\\\ 1 & 3 & 2 & 9 & 6\\\\ 8 & 9 & 1 & 7 & 2 \\end{bmatrix}$$"
   ]
  },
  {
   "cell_type": "code",
   "execution_count": 18,
   "metadata": {},
   "outputs": [
    {
     "data": {
      "text/plain": [
       "list"
      ]
     },
     "execution_count": 18,
     "metadata": {},
     "output_type": "execute_result"
    }
   ],
   "source": [
    "X = [[6, 7, 4, 5, 1],[2, 8, 3, 6, 4],[1, 3, 2, 9, 6],[8, 9, 1, 7, 2]] \n",
    "type(X)"
   ]
  },
  {
   "cell_type": "code",
   "execution_count": 19,
   "metadata": {},
   "outputs": [
    {
     "data": {
      "text/plain": [
       "array([[6, 7, 4, 5, 1],\n",
       "       [2, 8, 3, 6, 4],\n",
       "       [1, 3, 2, 9, 6],\n",
       "       [8, 9, 1, 7, 2]])"
      ]
     },
     "execution_count": 19,
     "metadata": {},
     "output_type": "execute_result"
    }
   ],
   "source": [
    "npx = np.array(X)\n",
    "npx"
   ]
  },
  {
   "cell_type": "code",
   "execution_count": 20,
   "metadata": {},
   "outputs": [
    {
     "data": {
      "text/plain": [
       "numpy.ndarray"
      ]
     },
     "execution_count": 20,
     "metadata": {},
     "output_type": "execute_result"
    }
   ],
   "source": [
    "type(npx)"
   ]
  },
  {
   "cell_type": "code",
   "execution_count": 23,
   "metadata": {},
   "outputs": [
    {
     "data": {
      "text/plain": [
       "(4, 5)"
      ]
     },
     "execution_count": 23,
     "metadata": {},
     "output_type": "execute_result"
    }
   ],
   "source": [
    "npx.shape"
   ]
  },
  {
   "cell_type": "code",
   "execution_count": 26,
   "metadata": {},
   "outputs": [
    {
     "data": {
      "text/plain": [
       "array([[6, 2, 1, 8],\n",
       "       [7, 8, 3, 9],\n",
       "       [4, 3, 2, 1],\n",
       "       [5, 6, 9, 7],\n",
       "       [1, 4, 6, 2]])"
      ]
     },
     "execution_count": 26,
     "metadata": {},
     "output_type": "execute_result"
    }
   ],
   "source": [
    "npx.T"
   ]
  },
  {
   "cell_type": "code",
   "execution_count": 28,
   "metadata": {},
   "outputs": [
    {
     "data": {
      "text/plain": [
       "(5, 4)"
      ]
     },
     "execution_count": 28,
     "metadata": {},
     "output_type": "execute_result"
    }
   ],
   "source": [
    "npx.T.shape"
   ]
  },
  {
   "cell_type": "code",
   "execution_count": null,
   "metadata": {},
   "outputs": [],
   "source": []
  },
  {
   "cell_type": "code",
   "execution_count": 29,
   "metadata": {},
   "outputs": [
    {
     "data": {
      "text/plain": [
       "array([[6, 7, 4, 5, 1, 2, 8, 3, 6, 4, 1, 3, 2, 9, 6, 8, 9, 1, 7, 2]])"
      ]
     },
     "execution_count": 29,
     "metadata": {},
     "output_type": "execute_result"
    }
   ],
   "source": [
    "npx.reshape(1,-1) "
   ]
  },
  {
   "cell_type": "code",
   "execution_count": 30,
   "metadata": {},
   "outputs": [
    {
     "data": {
      "text/plain": [
       "array([[6],\n",
       "       [7],\n",
       "       [4],\n",
       "       [5],\n",
       "       [1],\n",
       "       [2],\n",
       "       [8],\n",
       "       [3],\n",
       "       [6],\n",
       "       [4],\n",
       "       [1],\n",
       "       [3],\n",
       "       [2],\n",
       "       [9],\n",
       "       [6],\n",
       "       [8],\n",
       "       [9],\n",
       "       [1],\n",
       "       [7],\n",
       "       [2]])"
      ]
     },
     "execution_count": 30,
     "metadata": {},
     "output_type": "execute_result"
    }
   ],
   "source": [
    "npx.reshape(-1,1) "
   ]
  },
  {
   "cell_type": "markdown",
   "metadata": {},
   "source": [
    "##### การอ่านข้อมูล ตำแหน่งที่ต้องการให้ระบุ row index และ column index โดย index เริ่มที่  0\n",
    "###### numpy_data[row_index,column index]\n",
    "\n",
    "#### การอ่านข้อมูลเป็นช่วง(slicing) ให้ระบุตำแหน่ง index ช่วงเริ่มต้นและสิ้นสุด\n",
    "######  numpy_data[row_index1:row_index2,column index1:column index2] "
   ]
  },
  {
   "cell_type": "code",
   "execution_count": 31,
   "metadata": {},
   "outputs": [
    {
     "data": {
      "text/plain": [
       "4"
      ]
     },
     "execution_count": 31,
     "metadata": {},
     "output_type": "execute_result"
    }
   ],
   "source": [
    "npx[0,2]"
   ]
  },
  {
   "cell_type": "code",
   "execution_count": 32,
   "metadata": {},
   "outputs": [
    {
     "data": {
      "text/plain": [
       "3"
      ]
     },
     "execution_count": 32,
     "metadata": {},
     "output_type": "execute_result"
    }
   ],
   "source": [
    "npx[1,2]"
   ]
  },
  {
   "cell_type": "code",
   "execution_count": 33,
   "metadata": {},
   "outputs": [
    {
     "data": {
      "text/plain": [
       "array([[6, 7, 4, 5, 1],\n",
       "       [2, 8, 3, 6, 4],\n",
       "       [1, 3, 2, 9, 6],\n",
       "       [8, 9, 1, 7, 2]])"
      ]
     },
     "execution_count": 33,
     "metadata": {},
     "output_type": "execute_result"
    }
   ],
   "source": [
    "npx[:,:]"
   ]
  },
  {
   "cell_type": "code",
   "execution_count": 34,
   "metadata": {},
   "outputs": [
    {
     "data": {
      "text/plain": [
       "array([[6, 7, 4, 5],\n",
       "       [2, 8, 3, 6],\n",
       "       [1, 3, 2, 9],\n",
       "       [8, 9, 1, 7]])"
      ]
     },
     "execution_count": 34,
     "metadata": {},
     "output_type": "execute_result"
    }
   ],
   "source": [
    "X = npx[:,:-1] \n",
    "X"
   ]
  },
  {
   "cell_type": "code",
   "execution_count": 35,
   "metadata": {},
   "outputs": [
    {
     "data": {
      "text/plain": [
       "array([[1],\n",
       "       [4],\n",
       "       [6],\n",
       "       [2]])"
      ]
     },
     "execution_count": 35,
     "metadata": {},
     "output_type": "execute_result"
    }
   ],
   "source": [
    "y = npx[:,-1:] \n",
    "y "
   ]
  },
  {
   "cell_type": "code",
   "execution_count": 36,
   "metadata": {},
   "outputs": [
    {
     "data": {
      "text/plain": [
       "array([[ True,  True, False, False, False],\n",
       "       [False,  True, False,  True, False],\n",
       "       [False, False, False,  True,  True],\n",
       "       [ True,  True, False,  True, False]])"
      ]
     },
     "execution_count": 36,
     "metadata": {},
     "output_type": "execute_result"
    }
   ],
   "source": [
    "npx > 5"
   ]
  },
  {
   "cell_type": "code",
   "execution_count": 37,
   "metadata": {},
   "outputs": [
    {
     "data": {
      "text/plain": [
       "array([6, 7, 8, 6, 9, 6, 8, 9, 7])"
      ]
     },
     "execution_count": 37,
     "metadata": {},
     "output_type": "execute_result"
    }
   ],
   "source": [
    "npx[npx > 5] "
   ]
  },
  {
   "cell_type": "code",
   "execution_count": 38,
   "metadata": {
    "scrolled": false
   },
   "outputs": [
    {
     "data": {
      "text/plain": [
       "array([[6, 7, 4, 5, 1],\n",
       "       [2, 8, 3, 6, 4],\n",
       "       [1, 3, 2, 9, 6],\n",
       "       [8, 9, 1, 7, 2]])"
      ]
     },
     "execution_count": 38,
     "metadata": {},
     "output_type": "execute_result"
    }
   ],
   "source": [
    "npx"
   ]
  },
  {
   "cell_type": "code",
   "execution_count": 39,
   "metadata": {},
   "outputs": [],
   "source": [
    "npy = np.array([8, 9, 1, 7, 2])"
   ]
  },
  {
   "cell_type": "code",
   "execution_count": 40,
   "metadata": {},
   "outputs": [
    {
     "data": {
      "text/plain": [
       "array([[14, 16,  5, 12,  3],\n",
       "       [10, 17,  4, 13,  6],\n",
       "       [ 9, 12,  3, 16,  8],\n",
       "       [16, 18,  2, 14,  4]])"
      ]
     },
     "execution_count": 40,
     "metadata": {},
     "output_type": "execute_result"
    }
   ],
   "source": [
    "npx+npy"
   ]
  },
  {
   "cell_type": "markdown",
   "metadata": {},
   "source": [
    "## Random (numpy.random) and unique \n",
    "###### การสร้างตัวเลขแบบสุ่มโดยที่ค่าตัวเลขจะอยู่ระหว่าง 0ถึง 1 \n",
    "###### หากต้องการค่ามากกว่านั้น จะต้องทำการคูณ แล้วบวกเพิ่ม"
   ]
  },
  {
   "cell_type": "code",
   "execution_count": 41,
   "metadata": {},
   "outputs": [
    {
     "data": {
      "text/plain": [
       "array([0.62894414, 0.2737385 , 0.60442429, 0.41841745])"
      ]
     },
     "execution_count": 41,
     "metadata": {},
     "output_type": "execute_result"
    }
   ],
   "source": [
    "np.random.rand(4) "
   ]
  },
  {
   "cell_type": "code",
   "execution_count": 42,
   "metadata": {},
   "outputs": [
    {
     "data": {
      "text/plain": [
       "array([1.36567276, 3.96196176, 2.69988573, 0.90551191])"
      ]
     },
     "execution_count": 42,
     "metadata": {},
     "output_type": "execute_result"
    }
   ],
   "source": [
    "np.random.rand(4) * 10"
   ]
  },
  {
   "cell_type": "code",
   "execution_count": 46,
   "metadata": {},
   "outputs": [
    {
     "data": {
      "text/plain": [
       "array([91.26181047, 60.60200719, 52.0119101 , 63.38547302])"
      ]
     },
     "execution_count": 46,
     "metadata": {},
     "output_type": "execute_result"
    }
   ],
   "source": [
    "np.random.rand(4) * 50 + 50  "
   ]
  },
  {
   "cell_type": "code",
   "execution_count": 49,
   "metadata": {},
   "outputs": [
    {
     "data": {
      "text/plain": [
       "array([[ 859.73250351,  351.25747843,  122.87578742,  114.09655132],\n",
       "       [ 101.93129238,  968.42937815,  612.7658929 ,  486.23655428],\n",
       "       [ 457.17445712,  735.12899686,  631.08186389,  910.01131885],\n",
       "       [1021.06581742,  188.73643437,  349.61698527,  496.24563068],\n",
       "       [ 978.98575356, 1025.60939303, 1075.30637783,  324.45853876],\n",
       "       [ 844.74166135,  519.5920897 ,  660.64256338,  246.44764528],\n",
       "       [ 593.77204833,  978.77961398,  255.60745826, 1096.43219652],\n",
       "       [1075.43015083, 1042.34681164,  418.80978654,  987.38756169],\n",
       "       [ 113.79620903, 1070.67445844,  338.66645785,  304.79686062],\n",
       "       [ 804.27583354,  625.30160972,  780.67823893,  721.47415289],\n",
       "       [ 198.60270837,  162.21147795,  679.80139605,  390.51973528],\n",
       "       [ 842.41143959,  939.39264444,  837.6721165 ,  338.44642699],\n",
       "       [ 325.1598476 ,  228.05888316,  927.91271146,  845.04575313],\n",
       "       [ 587.16078654, 1008.1578283 , 1032.35011317,  208.81880824],\n",
       "       [ 873.68456952,  914.4587794 ,  484.39103347,  193.41321075],\n",
       "       [ 527.95674526,  799.07299317, 1080.74335159,  654.17188958],\n",
       "       [ 318.11459262,  280.15677454,  793.48819501,  703.96634367],\n",
       "       [ 466.66302053,  674.76888769,  448.63959981, 1074.15306312],\n",
       "       [ 516.44799243, 1092.94990312,  444.06516601,  762.99955228],\n",
       "       [ 651.63292938,  716.23669065,  329.53908309,  788.99054146],\n",
       "       [ 709.26243325,  301.98470279,  869.42518949, 1085.78358175],\n",
       "       [ 246.42807331,  854.42542222,  457.82247828,  118.68137412],\n",
       "       [ 667.02920914,  355.14400934,  800.97717594,  943.01646072],\n",
       "       [1081.38556439,  863.21711418,  820.13894214,  801.84634229],\n",
       "       [ 585.45582382,  310.62309348, 1097.90255687, 1074.97476585],\n",
       "       [ 410.97481917,  178.83593701,  974.43918037,  526.59790252],\n",
       "       [ 274.21145934,  465.74308831,  223.10528405, 1075.0464121 ],\n",
       "       [ 136.91718139,  218.31644415,  698.30546702,  198.36100061],\n",
       "       [ 301.5263021 ,  218.54327574,  110.94805924,  352.24569826],\n",
       "       [ 293.50155742, 1099.11170032,  326.68807944, 1031.02416512],\n",
       "       [ 237.05058092,  671.14094329,  454.6561998 ,  892.60410305],\n",
       "       [ 282.28223082,  461.77485213,  803.30024073,  418.74187392],\n",
       "       [ 940.20922101,  385.34269384, 1017.74276785,  573.51088752],\n",
       "       [ 881.08377724,  215.34841416,  337.87575032, 1063.73361637],\n",
       "       [ 754.39232057,  503.50946441,  300.62935979,  175.83825483],\n",
       "       [ 708.4267873 ,  306.617491  ,  676.55455022,  422.83638584],\n",
       "       [ 732.67323677,  832.23323747,  347.49205752,  924.10195571],\n",
       "       [ 955.30790255,  656.51003891,  128.22229202,  415.96123871],\n",
       "       [ 885.29478939,  481.40447385,  731.27279016,  361.02967255],\n",
       "       [ 320.55994162,  291.59047187, 1015.66746982,  120.03642356],\n",
       "       [ 900.14473519,  519.50812936,  809.64965167,  488.53940989],\n",
       "       [ 195.46811338,  661.91091707,  277.25192804,  862.84819877],\n",
       "       [ 577.54538826,  508.46733069,  766.5185022 ,  238.9005943 ],\n",
       "       [ 342.94417185,  714.54275608,  616.30545461,  570.29710776],\n",
       "       [ 341.3379434 ,  141.48142411,  872.70022629,  294.59893084],\n",
       "       [ 911.83655669,  337.92924179,  443.61231209,  511.90706404],\n",
       "       [1054.35150561,  372.73263348,  450.44721348,  480.00668068],\n",
       "       [ 686.73589704,  455.88173815,  921.74309332,  304.84697618],\n",
       "       [ 915.32552624,  790.68422241, 1013.61467585,  382.68773006],\n",
       "       [ 943.48650172, 1034.96112235,  453.10251885,  988.96931791],\n",
       "       [ 335.96841402,  348.56244781,  927.43467895,  808.38314663],\n",
       "       [ 748.74330758,  333.45341663,  210.00472402,  395.70044316],\n",
       "       [ 269.00203442,  480.96487571,  259.21794901,  895.63392925],\n",
       "       [ 411.48770325,  532.41241943,  793.08746582,  408.63051949],\n",
       "       [ 725.62021597,  730.79173047,  762.53079866,  194.34995303],\n",
       "       [ 455.14184634,  819.8556321 ,  611.0359341 ,  790.4680013 ],\n",
       "       [ 385.79926537,  108.30788634,  992.61274364,  148.39638446],\n",
       "       [ 757.59729621,  356.05095571,  114.70723335,  507.23848428],\n",
       "       [ 136.14717154,  474.76399188,  121.27792278,  106.61577163],\n",
       "       [1056.16271575,  118.57912914,  595.44041676,  895.0623631 ],\n",
       "       [ 261.88448886,  194.13618213, 1055.95303791,  213.96226414],\n",
       "       [ 584.2011141 ,  575.47097681, 1072.01028298,  821.71912786],\n",
       "       [1083.32635945,  375.81896212,  913.61266934,  225.33756932],\n",
       "       [ 368.88736561,  589.49056357,  662.27953015,  403.1814023 ],\n",
       "       [ 821.72887889,  420.16650782,  551.1035167 ,  460.94982078],\n",
       "       [ 939.53889225,  392.76359451,  871.27897603,  489.3964119 ],\n",
       "       [ 802.77283464,  692.23918541,  824.55109234,  826.31893826],\n",
       "       [1024.11523832,  184.31393132, 1037.46533378,  653.85337367],\n",
       "       [ 784.17767572,  706.95347856,  754.40966061,  916.91892775],\n",
       "       [ 494.31534931,  435.97837609,  237.58167623,  305.01601731],\n",
       "       [ 177.32950626,  247.55115925,  522.53874687,  656.25416356],\n",
       "       [ 818.93754679,  105.16906579,  169.28240103,  313.7452657 ],\n",
       "       [ 461.26920498,  639.83600542,  841.70492975,  150.44304572],\n",
       "       [ 156.31743507,  310.43124615, 1022.92607774,  840.42170205],\n",
       "       [ 119.61660545,  368.09041265,  132.88211151,  884.69685442],\n",
       "       [ 553.92772491, 1059.39126504, 1087.70487518,  921.06526118],\n",
       "       [ 375.26387532,  192.01630185,  702.7325274 ,  275.2843209 ],\n",
       "       [ 864.6236866 ,  514.49004486,  609.07939455,  741.45345555],\n",
       "       [ 979.92611409,  952.24161696,  232.92074881,  934.4725671 ],\n",
       "       [ 592.38119815, 1037.07556904,  998.30130026,  919.97075652],\n",
       "       [ 669.12182562,  734.44633253,  519.89833033,  779.08313298],\n",
       "       [ 730.57819478,  792.67945632,  968.37735872,  260.69049599],\n",
       "       [1090.27332034,  620.39558314,  426.79323317,  124.75293801],\n",
       "       [ 686.40663967,  165.00752032,  114.21419594,  518.87581519],\n",
       "       [ 244.56709869,  668.52494794,  331.66531343,  230.93755592],\n",
       "       [ 241.41522352,  219.266455  ,  287.66323229, 1064.33747863],\n",
       "       [ 570.05299787,  817.21938326,  129.67806464,  318.11991923],\n",
       "       [1002.84660487,  470.78450002,  211.49801783,  235.48021688],\n",
       "       [ 662.53626975,  866.91459006, 1098.99684052,  997.8249803 ],\n",
       "       [ 777.93464125,  997.52235874,  901.75707104,  947.76374149],\n",
       "       [1017.14555162,  735.4043233 ,  822.68667252,  566.47867208],\n",
       "       [1092.84512208,  855.8948532 , 1007.55280224,  305.75603305],\n",
       "       [ 304.20823721,  339.99211026,  729.71198269,  232.85190762],\n",
       "       [ 106.45264786,  783.17163757,  582.90635173,  719.68931677],\n",
       "       [ 855.18634025,  728.71851908, 1065.96550184,  864.29739441],\n",
       "       [ 481.08673231,  695.29181561,  357.69590631,  517.47129788],\n",
       "       [ 378.15809621,  727.99434564, 1085.7803747 ,  713.03723185],\n",
       "       [ 191.40212007,  814.9309526 ,  569.70555538,  189.84493108],\n",
       "       [ 698.6410845 ,  772.16127455,  521.74242849, 1087.48443446],\n",
       "       [ 880.84922105,  686.25647245,  533.32020794, 1091.42453449]])"
      ]
     },
     "execution_count": 49,
     "metadata": {},
     "output_type": "execute_result"
    }
   ],
   "source": [
    "np.random.rand(100, 4) * 1000 + 100"
   ]
  },
  {
   "cell_type": "markdown",
   "metadata": {},
   "source": [
    "###### การสุ่มตัวเลขโดยกำหนดค่าทางสถิติร่วมด้วย เช่น ค่าเฉลี่ย, SD, ลักษณะการกระจายตัว"
   ]
  },
  {
   "cell_type": "code",
   "execution_count": 50,
   "metadata": {},
   "outputs": [],
   "source": [
    "mu, sigma = 3.2, 0.5 \n",
    "s = np.random.normal(mu, sigma, 1000) "
   ]
  },
  {
   "cell_type": "code",
   "execution_count": 51,
   "metadata": {},
   "outputs": [
    {
     "data": {
      "text/plain": [
       "array([3.67861009, 1.88573003, 4.11754216, 3.79942751, 3.62069261,\n",
       "       3.60162249, 3.2883244 , 3.65612566, 3.2903967 , 3.04820527])"
      ]
     },
     "execution_count": 51,
     "metadata": {},
     "output_type": "execute_result"
    }
   ],
   "source": [
    "s[:10] "
   ]
  },
  {
   "cell_type": "code",
   "execution_count": 52,
   "metadata": {},
   "outputs": [],
   "source": [
    "import matplotlib.pyplot as plt "
   ]
  },
  {
   "cell_type": "code",
   "execution_count": 53,
   "metadata": {},
   "outputs": [
    {
     "data": {
      "image/png": "[encoded data removed]",
      "text/plain": [
       "<Figure size 432x288 with 1 Axes>"
      ]
     },
     "metadata": {},
     "output_type": "display_data"
    }
   ],
   "source": [
    "plt.hist(s, bins=40) \n",
    "plt.show()"
   ]
  },
  {
   "cell_type": "code",
   "execution_count": null,
   "metadata": {},
   "outputs": [],
   "source": []
  }
 ],
 "metadata": {
  "kernelspec": {
   "display_name": "Python 3",
   "language": "python",
   "name": "python3"
  },
  "language_info": {
   "codemirror_mode": {
    "name": "ipython",
    "version": 3
   },
   "file_extension": ".py",
   "mimetype": "text/x-python",
   "name": "python",
   "nbconvert_exporter": "python",
   "pygments_lexer": "ipython3",
   "version": "3.6.5"
  }
 },
 "nbformat": 4,
 "nbformat_minor": 2
}
