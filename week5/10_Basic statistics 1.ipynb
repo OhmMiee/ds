{
 "cells": [
  {
   "cell_type": "markdown",
   "metadata": {},
   "source": [
    "### 1.การหาค่าเข้าสู่ศูนย์กลางหรือค่ากลาง"
   ]
  },
  {
   "cell_type": "code",
   "execution_count": 1,
   "metadata": {},
   "outputs": [],
   "source": [
    "import pandas as pd"
   ]
  },
  {
   "cell_type": "code",
   "execution_count": 2,
   "metadata": {},
   "outputs": [
    {
     "data": {
      "text/html": [
       "<div>\n",
       "<style scoped>\n",
       "    .dataframe tbody tr th:only-of-type {\n",
       "        vertical-align: middle;\n",
       "    }\n",
       "\n",
       "    .dataframe tbody tr th {\n",
       "        vertical-align: top;\n",
       "    }\n",
       "\n",
       "    .dataframe thead th {\n",
       "        text-align: right;\n",
       "    }\n",
       "</style>\n",
       "<table border=\"1\" class=\"dataframe\">\n",
       "  <thead>\n",
       "    <tr style=\"text-align: right;\">\n",
       "      <th></th>\n",
       "      <th>Name</th>\n",
       "      <th>Age</th>\n",
       "      <th>Work</th>\n",
       "      <th>Gender</th>\n",
       "      <th>Part1</th>\n",
       "      <th>Part2</th>\n",
       "    </tr>\n",
       "  </thead>\n",
       "  <tbody>\n",
       "    <tr>\n",
       "      <th>0</th>\n",
       "      <td>Mr.Mocha</td>\n",
       "      <td>25</td>\n",
       "      <td>1.2</td>\n",
       "      <td>M</td>\n",
       "      <td>1</td>\n",
       "      <td>3</td>\n",
       "    </tr>\n",
       "    <tr>\n",
       "      <th>1</th>\n",
       "      <td>Ms.Latte</td>\n",
       "      <td>22</td>\n",
       "      <td>2.3</td>\n",
       "      <td>F</td>\n",
       "      <td>2</td>\n",
       "      <td>3</td>\n",
       "    </tr>\n",
       "    <tr>\n",
       "      <th>2</th>\n",
       "      <td>Mr.Espresso</td>\n",
       "      <td>25</td>\n",
       "      <td>1.5</td>\n",
       "      <td>M</td>\n",
       "      <td>3</td>\n",
       "      <td>4</td>\n",
       "    </tr>\n",
       "    <tr>\n",
       "      <th>3</th>\n",
       "      <td>Mr.Americano</td>\n",
       "      <td>35</td>\n",
       "      <td>2.0</td>\n",
       "      <td>M</td>\n",
       "      <td>4</td>\n",
       "      <td>4</td>\n",
       "    </tr>\n",
       "    <tr>\n",
       "      <th>4</th>\n",
       "      <td>Ms.Frappe</td>\n",
       "      <td>32</td>\n",
       "      <td>3.0</td>\n",
       "      <td>F</td>\n",
       "      <td>5</td>\n",
       "      <td>5</td>\n",
       "    </tr>\n",
       "    <tr>\n",
       "      <th>5</th>\n",
       "      <td>Mr.Doppio</td>\n",
       "      <td>28</td>\n",
       "      <td>1.8</td>\n",
       "      <td>M</td>\n",
       "      <td>6</td>\n",
       "      <td>6</td>\n",
       "    </tr>\n",
       "    <tr>\n",
       "      <th>6</th>\n",
       "      <td>Mr.Affogato</td>\n",
       "      <td>25</td>\n",
       "      <td>1.4</td>\n",
       "      <td>M</td>\n",
       "      <td>7</td>\n",
       "      <td>6</td>\n",
       "    </tr>\n",
       "    <tr>\n",
       "      <th>7</th>\n",
       "      <td>Ms.Cappuccino</td>\n",
       "      <td>30</td>\n",
       "      <td>2.5</td>\n",
       "      <td>F</td>\n",
       "      <td>8</td>\n",
       "      <td>7</td>\n",
       "    </tr>\n",
       "    <tr>\n",
       "      <th>8</th>\n",
       "      <td>Mr.chocolate</td>\n",
       "      <td>33</td>\n",
       "      <td>3.2</td>\n",
       "      <td>M</td>\n",
       "      <td>9</td>\n",
       "      <td>7</td>\n",
       "    </tr>\n",
       "  </tbody>\n",
       "</table>\n",
       "</div>"
      ],
      "text/plain": [
       "            Name  Age  Work Gender  Part1  Part2\n",
       "0       Mr.Mocha   25   1.2      M      1      3\n",
       "1       Ms.Latte   22   2.3      F      2      3\n",
       "2    Mr.Espresso   25   1.5      M      3      4\n",
       "3   Mr.Americano   35   2.0      M      4      4\n",
       "4      Ms.Frappe   32   3.0      F      5      5\n",
       "5     Mr.Doppio    28   1.8      M      6      6\n",
       "6    Mr.Affogato   25   1.4      M      7      6\n",
       "7  Ms.Cappuccino   30   2.5      F      8      7\n",
       "8   Mr.chocolate   33   3.2      M      9      7"
      ]
     },
     "execution_count": 2,
     "metadata": {},
     "output_type": "execute_result"
    }
   ],
   "source": [
    "url='https://github.com/mathawanup/learn_dataset/raw/master/coffee_staff.tsv'\n",
    "df=pd.read_table(url)\n",
    "df"
   ]
  },
  {
   "cell_type": "code",
   "execution_count": 3,
   "metadata": {},
   "outputs": [
    {
     "name": "stdout",
     "output_type": "stream",
     "text": [
      "<class 'pandas.core.frame.DataFrame'>\n",
      "RangeIndex: 9 entries, 0 to 8\n",
      "Data columns (total 6 columns):\n",
      " #   Column  Non-Null Count  Dtype  \n",
      "---  ------  --------------  -----  \n",
      " 0   Name    9 non-null      object \n",
      " 1   Age     9 non-null      int64  \n",
      " 2   Work    9 non-null      float64\n",
      " 3   Gender  9 non-null      object \n",
      " 4   Part1   9 non-null      int64  \n",
      " 5   Part2   9 non-null      int64  \n",
      "dtypes: float64(1), int64(3), object(2)\n",
      "memory usage: 560.0+ bytes\n"
     ]
    }
   ],
   "source": [
    "df.info() #lสำรวจรายละเอียดของข้อมูลใน dataframe"
   ]
  },
  {
   "cell_type": "markdown",
   "metadata": {},
   "source": [
    "**ค่าเฉลี่ย(mean)และส่วนเบี่ยงเบนมาตรฐาน(standard deviation)**"
   ]
  },
  {
   "cell_type": "code",
   "execution_count": 4,
   "metadata": {},
   "outputs": [
    {
     "data": {
      "text/plain": [
       "28.333333333333332"
      ]
     },
     "execution_count": 4,
     "metadata": {},
     "output_type": "execute_result"
    }
   ],
   "source": [
    "avg=df.Age.sum()/df.Name.value_counts().sum() \n",
    "avg#ค่าเฉลี่ย(mean)ของ  Age column"
   ]
  },
  {
   "cell_type": "code",
   "execution_count": 5,
   "metadata": {},
   "outputs": [
    {
     "data": {
      "text/plain": [
       "28.333333333333332"
      ]
     },
     "execution_count": 5,
     "metadata": {},
     "output_type": "execute_result"
    }
   ],
   "source": [
    "df.Age.mean()#ค่าเฉลี่ย(mean)ของ  Age column"
   ]
  },
  {
   "cell_type": "code",
   "execution_count": 7,
   "metadata": {},
   "outputs": [
    {
     "data": {
      "text/plain": [
       "5.0"
      ]
     },
     "execution_count": 7,
     "metadata": {},
     "output_type": "execute_result"
    }
   ],
   "source": [
    " df.Part1.mean()#ค่าเฉลี่ยของ  Part1 column"
   ]
  },
  {
   "cell_type": "code",
   "execution_count": 8,
   "metadata": {},
   "outputs": [
    {
     "data": {
      "text/plain": [
       "5.0"
      ]
     },
     "execution_count": 8,
     "metadata": {},
     "output_type": "execute_result"
    }
   ],
   "source": [
    " df.Part2.mean() #ค่าเฉลี่ยของ  Part2 column"
   ]
  },
  {
   "cell_type": "code",
   "execution_count": 9,
   "metadata": {},
   "outputs": [
    {
     "data": {
      "text/plain": [
       "2.7386127875258306"
      ]
     },
     "execution_count": 9,
     "metadata": {},
     "output_type": "execute_result"
    }
   ],
   "source": [
    "df.Part1.std()#ส่วนเบี่ยงเบนมาตรฐานของ   Part1 column  "
   ]
  },
  {
   "cell_type": "code",
   "execution_count": 10,
   "metadata": {},
   "outputs": [
    {
     "data": {
      "text/plain": [
       "1.5811388300841898"
      ]
     },
     "execution_count": 10,
     "metadata": {},
     "output_type": "execute_result"
    }
   ],
   "source": [
    "df.Part2.std()#ส่วนเบี่ยงเบนมาตรฐานของ   Part2 column"
   ]
  },
  {
   "cell_type": "markdown",
   "metadata": {},
   "source": [
    "**มัธยฐาน(Median)และฐานนิยม(Mode)**"
   ]
  },
  {
   "cell_type": "code",
   "execution_count": 11,
   "metadata": {},
   "outputs": [
    {
     "data": {
      "text/plain": [
       "Index(['Name', 'Age', 'Work', 'Gender', 'Part1', 'Part2'], dtype='object')"
      ]
     },
     "execution_count": 11,
     "metadata": {},
     "output_type": "execute_result"
    }
   ],
   "source": [
    "df.columns #แสดงชื่อคอลัมภ์"
   ]
  },
  {
   "cell_type": "code",
   "execution_count": 12,
   "metadata": {},
   "outputs": [
    {
     "data": {
      "text/plain": [
       "array([1.2, 1.4, 1.5, 1.8, 2. , 2.3, 2.5, 3. , 3.2])"
      ]
     },
     "execution_count": 12,
     "metadata": {},
     "output_type": "execute_result"
    }
   ],
   "source": [
    "df.Work.sort_values().values "
   ]
  },
  {
   "cell_type": "code",
   "execution_count": 13,
   "metadata": {
    "scrolled": true
   },
   "outputs": [
    {
     "data": {
      "text/plain": [
       "2.0"
      ]
     },
     "execution_count": 13,
     "metadata": {},
     "output_type": "execute_result"
    }
   ],
   "source": [
    " df.Work.median()#มัธยฐาน(median) ของ Work column"
   ]
  },
  {
   "cell_type": "code",
   "execution_count": 14,
   "metadata": {},
   "outputs": [
    {
     "data": {
      "text/html": [
       "<div>\n",
       "<style scoped>\n",
       "    .dataframe tbody tr th:only-of-type {\n",
       "        vertical-align: middle;\n",
       "    }\n",
       "\n",
       "    .dataframe tbody tr th {\n",
       "        vertical-align: top;\n",
       "    }\n",
       "\n",
       "    .dataframe thead th {\n",
       "        text-align: right;\n",
       "    }\n",
       "</style>\n",
       "<table border=\"1\" class=\"dataframe\">\n",
       "  <thead>\n",
       "    <tr style=\"text-align: right;\">\n",
       "      <th></th>\n",
       "      <th>Name</th>\n",
       "      <th>Age</th>\n",
       "      <th>Work</th>\n",
       "      <th>Gender</th>\n",
       "      <th>Part1</th>\n",
       "      <th>Part2</th>\n",
       "    </tr>\n",
       "  </thead>\n",
       "  <tbody>\n",
       "    <tr>\n",
       "      <th>0</th>\n",
       "      <td>Mr.Mocha</td>\n",
       "      <td>25</td>\n",
       "      <td>1.2</td>\n",
       "      <td>M</td>\n",
       "      <td>1</td>\n",
       "      <td>3</td>\n",
       "    </tr>\n",
       "    <tr>\n",
       "      <th>1</th>\n",
       "      <td>Ms.Latte</td>\n",
       "      <td>22</td>\n",
       "      <td>2.3</td>\n",
       "      <td>F</td>\n",
       "      <td>2</td>\n",
       "      <td>3</td>\n",
       "    </tr>\n",
       "    <tr>\n",
       "      <th>2</th>\n",
       "      <td>Mr.Espresso</td>\n",
       "      <td>25</td>\n",
       "      <td>1.5</td>\n",
       "      <td>M</td>\n",
       "      <td>3</td>\n",
       "      <td>4</td>\n",
       "    </tr>\n",
       "    <tr>\n",
       "      <th>3</th>\n",
       "      <td>Mr.Americano</td>\n",
       "      <td>35</td>\n",
       "      <td>2.0</td>\n",
       "      <td>M</td>\n",
       "      <td>4</td>\n",
       "      <td>4</td>\n",
       "    </tr>\n",
       "    <tr>\n",
       "      <th>4</th>\n",
       "      <td>Ms.Frappe</td>\n",
       "      <td>32</td>\n",
       "      <td>3.0</td>\n",
       "      <td>F</td>\n",
       "      <td>5</td>\n",
       "      <td>5</td>\n",
       "    </tr>\n",
       "    <tr>\n",
       "      <th>5</th>\n",
       "      <td>Mr.Doppio</td>\n",
       "      <td>28</td>\n",
       "      <td>1.8</td>\n",
       "      <td>M</td>\n",
       "      <td>6</td>\n",
       "      <td>6</td>\n",
       "    </tr>\n",
       "    <tr>\n",
       "      <th>6</th>\n",
       "      <td>Mr.Affogato</td>\n",
       "      <td>25</td>\n",
       "      <td>1.4</td>\n",
       "      <td>M</td>\n",
       "      <td>7</td>\n",
       "      <td>6</td>\n",
       "    </tr>\n",
       "    <tr>\n",
       "      <th>7</th>\n",
       "      <td>Ms.Cappuccino</td>\n",
       "      <td>30</td>\n",
       "      <td>2.5</td>\n",
       "      <td>F</td>\n",
       "      <td>8</td>\n",
       "      <td>7</td>\n",
       "    </tr>\n",
       "    <tr>\n",
       "      <th>8</th>\n",
       "      <td>Mr.chocolate</td>\n",
       "      <td>33</td>\n",
       "      <td>3.2</td>\n",
       "      <td>M</td>\n",
       "      <td>9</td>\n",
       "      <td>7</td>\n",
       "    </tr>\n",
       "  </tbody>\n",
       "</table>\n",
       "</div>"
      ],
      "text/plain": [
       "            Name  Age  Work Gender  Part1  Part2\n",
       "0       Mr.Mocha   25   1.2      M      1      3\n",
       "1       Ms.Latte   22   2.3      F      2      3\n",
       "2    Mr.Espresso   25   1.5      M      3      4\n",
       "3   Mr.Americano   35   2.0      M      4      4\n",
       "4      Ms.Frappe   32   3.0      F      5      5\n",
       "5     Mr.Doppio    28   1.8      M      6      6\n",
       "6    Mr.Affogato   25   1.4      M      7      6\n",
       "7  Ms.Cappuccino   30   2.5      F      8      7\n",
       "8   Mr.chocolate   33   3.2      M      9      7"
      ]
     },
     "execution_count": 14,
     "metadata": {},
     "output_type": "execute_result"
    }
   ],
   "source": [
    "df"
   ]
  },
  {
   "cell_type": "code",
   "execution_count": 15,
   "metadata": {},
   "outputs": [
    {
     "data": {
      "text/plain": [
       "0    25\n",
       "dtype: int64"
      ]
     },
     "execution_count": 15,
     "metadata": {},
     "output_type": "execute_result"
    }
   ],
   "source": [
    "df.Age.mode() # ฐานนิยมmode()  ของ Age"
   ]
  },
  {
   "cell_type": "markdown",
   "metadata": {},
   "source": [
    "### 2.การวัดการกระจายตัวของข้อมูล"
   ]
  },
  {
   "cell_type": "markdown",
   "metadata": {},
   "source": [
    "**Computing Quantiles-Percentiles, Quintiles, Deciles, Quarters https://pythontic.com/pandas/series-computations/quantile**"
   ]
  },
  {
   "cell_type": "markdown",
   "metadata": {},
   "source": [
    "**ควอไทล์(Quatile)**"
   ]
  },
  {
   "cell_type": "markdown",
   "metadata": {},
   "source": [
    "**They divide the distribution into quarters.**"
   ]
  },
  {
   "cell_type": "code",
   "execution_count": 16,
   "metadata": {},
   "outputs": [
    {
     "data": {
      "text/html": [
       "<img src=\"http://my.ilstu.edu/~gjin/hsc204-hed/Module-5-Summary-Measure-2/Figure-3-8.png\"/>"
      ],
      "text/plain": [
       "<IPython.core.display.Image object>"
      ]
     },
     "execution_count": 16,
     "metadata": {},
     "output_type": "execute_result"
    }
   ],
   "source": [
    "from IPython.display import Image\n",
    "from IPython.core.display import HTML \n",
    "Image(url= \"http://my.ilstu.edu/~gjin/hsc204-hed/Module-5-Summary-Measure-2/Figure-3-8.png\")"
   ]
  },
  {
   "cell_type": "code",
   "execution_count": 17,
   "metadata": {},
   "outputs": [],
   "source": [
    "score=[59, 60, 65, 65, 68, 69, 70, 72, 75, 75, 76, 77, 81, 82, 84, 87, 90, 95, 98]\n",
    "ds=pd.Series(score)"
   ]
  },
  {
   "cell_type": "code",
   "execution_count": 18,
   "metadata": {
    "scrolled": false
   },
   "outputs": [
    {
     "data": {
      "text/plain": [
       "0.25    68.5\n",
       "0.50    75.0\n",
       "0.75    83.0\n",
       "dtype: float64"
      ]
     },
     "execution_count": 18,
     "metadata": {},
     "output_type": "execute_result"
    }
   ],
   "source": [
    "ds.quantile([0.25,0.5,0.75]) "
   ]
  },
  {
   "cell_type": "code",
   "execution_count": 20,
   "metadata": {},
   "outputs": [
    {
     "data": {
      "text/plain": [
       "90.99999999999999"
      ]
     },
     "execution_count": 20,
     "metadata": {},
     "output_type": "execute_result"
    }
   ],
   "source": [
    "result = ds.quantile(q = 0.9) \n",
    "result "
   ]
  },
  {
   "cell_type": "code",
   "execution_count": 21,
   "metadata": {},
   "outputs": [
    {
     "data": {
      "text/plain": [
       "array([0, 0, 0, 0, 1, 1, 1, 1, 2, 2, 2, 3, 3, 3, 3, 4, 4, 4, 4],\n",
       "      dtype=int64)"
      ]
     },
     "execution_count": 21,
     "metadata": {},
     "output_type": "execute_result"
    }
   ],
   "source": [
    " pd.qcut(score, 5, labels = False) "
   ]
  },
  {
   "cell_type": "markdown",
   "metadata": {},
   "source": [
    "**เดไซล์**"
   ]
  },
  {
   "cell_type": "markdown",
   "metadata": {},
   "source": [
    "**They divide the distribution into parts of tenths.**"
   ]
  },
  {
   "cell_type": "code",
   "execution_count": 22,
   "metadata": {},
   "outputs": [
    {
     "data": {
      "text/plain": [
       "0.1    64.0\n",
       "0.2    66.8\n",
       "0.3    69.4\n",
       "0.4    72.6\n",
       "0.5    75.0\n",
       "0.6    76.8\n",
       "0.8    85.2\n",
       "0.9    91.0\n",
       "dtype: float64"
      ]
     },
     "execution_count": 22,
     "metadata": {},
     "output_type": "execute_result"
    }
   ],
   "source": [
    "ds.quantile([0.1,0.2,0.3,0.4,0.5,0.6,0.8,0.9]) "
   ]
  },
  {
   "cell_type": "markdown",
   "metadata": {},
   "source": [
    "**เปอร์เซ็นต์ไทล์ (Percentile)**"
   ]
  },
  {
   "cell_type": "markdown",
   "metadata": {},
   "source": [
    "**They divide the distribution into hundredths**"
   ]
  },
  {
   "cell_type": "code",
   "execution_count": 23,
   "metadata": {},
   "outputs": [
    {
     "data": {
      "text/plain": [
       "0.25    68.5\n",
       "0.30    69.4\n",
       "0.40    72.6\n",
       "0.50    75.0\n",
       "0.60    76.8\n",
       "0.80    85.2\n",
       "0.90    91.0\n",
       "1.00    98.0\n",
       "dtype: float64"
      ]
     },
     "execution_count": 23,
     "metadata": {},
     "output_type": "execute_result"
    }
   ],
   "source": [
    "ds.quantile([0.25,0.3,0.4,0.5,0.6,0.8,0.9,1.0]) "
   ]
  },
  {
   "cell_type": "markdown",
   "metadata": {},
   "source": [
    "**การแจกแจงความถี่**"
   ]
  },
  {
   "cell_type": "code",
   "execution_count": 24,
   "metadata": {},
   "outputs": [
    {
     "data": {
      "text/plain": [
       "Index(['Name', 'Age', 'Work', 'Gender', 'Part1', 'Part2'], dtype='object')"
      ]
     },
     "execution_count": 24,
     "metadata": {},
     "output_type": "execute_result"
    }
   ],
   "source": [
    "df.columns"
   ]
  },
  {
   "cell_type": "code",
   "execution_count": 25,
   "metadata": {},
   "outputs": [
    {
     "data": {
      "text/plain": [
       "M    6\n",
       "F    3\n",
       "Name: Gender, dtype: int64"
      ]
     },
     "execution_count": 25,
     "metadata": {},
     "output_type": "execute_result"
    }
   ],
   "source": [
    "df.Gender.value_counts()"
   ]
  },
  {
   "cell_type": "code",
   "execution_count": null,
   "metadata": {},
   "outputs": [],
   "source": []
  }
 ],
 "metadata": {
  "kernelspec": {
   "display_name": "Python 3",
   "language": "python",
   "name": "python3"
  },
  "language_info": {
   "codemirror_mode": {
    "name": "ipython",
    "version": 3
   },
   "file_extension": ".py",
   "mimetype": "text/x-python",
   "name": "python",
   "nbconvert_exporter": "python",
   "pygments_lexer": "ipython3",
   "version": "3.8.5"
  }
 },
 "nbformat": 4,
 "nbformat_minor": 4
}
